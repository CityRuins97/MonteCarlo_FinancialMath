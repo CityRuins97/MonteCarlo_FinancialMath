{
 "cells": [
  {
   "cell_type": "code",
   "execution_count": 2,
   "id": "579855eb",
   "metadata": {},
   "outputs": [],
   "source": [
    "import numpy as np\n",
    "import statsmodels.api as sm\n",
    "import matplotlib.pyplot as plt\n",
    "from scipy.stats import norm\n",
    "from scipy.stats import uniform\n",
    "import tqdm"
   ]
  },
  {
   "cell_type": "code",
   "execution_count": 3,
   "id": "41fb3219",
   "metadata": {},
   "outputs": [],
   "source": [
    "# CI function\n",
    "def CI(data,alpha):\n",
    "    sample_mean=np.mean(data) # data is a list!\n",
    "    sample_sigma=np.std(data)\n",
    "    critical_point = norm.ppf(1-alpha/2)\n",
    "    LB=sample_mean-critical_point*sample_sigma/np.sqrt(len(data))\n",
    "    UB=sample_mean+critical_point*sample_sigma/np.sqrt(len(data))\n",
    "    return LB,UB"
   ]
  },
  {
   "cell_type": "markdown",
   "id": "c919c4a0",
   "metadata": {},
   "source": [
    "# Question 2 :"
   ]
  },
  {
   "cell_type": "code",
   "execution_count": 126,
   "id": "c7a50609",
   "metadata": {
    "scrolled": true
   },
   "outputs": [
    {
     "name": "stdout",
     "output_type": "stream",
     "text": [
      "81.03068794835937 (80.31308674346641, 81.74828915325233)\n"
     ]
    }
   ],
   "source": [
    "'''\n",
    "Exit time T follow pdf f(x)=x/18 0<x<6\n",
    "If T<6, Exit payoff: p*IPO payoff+(1-p)*M&A payoff \n",
    "Exit value above 1B would be IPO, all other are M&A\n",
    "If T=6, exit would be M&A\n",
    "Series B / M&A payoff = formula 1\n",
    "Series B / IPO payoff = X*Ib/Pb\n",
    "Also need to check if XT>1000 or not, \n",
    "'''\n",
    "# parameters\n",
    "Pa,Pb,Ia,Ib=450,1000,50,100\n",
    "share_new,share_old,share_current=0.1,0.1,0.8\n",
    "r,sigma=0.025,0.9\n",
    "size=1000000\n",
    "\n",
    "X0=600 # ERROR! Can be adjusted!\n",
    "\n",
    "U=np.random.uniform(0,1,size)\n",
    "T=np.sqrt(36*U)\n",
    "\n",
    "Z=np.random.normal(0,1,size)\n",
    "X=X0*np.exp((r-0.5*(sigma**2))*T+sigma*np.sqrt(T)*Z)\n",
    "\n",
    "Ib_vector=np.ones(size)*Ib\n",
    "\n",
    "# 目前是用X去判斷 不知道T如何\n",
    "\n",
    "Merge = np.max((np.min([Ia*X[np.where(X<1000)]/(Ia+Ib),np.ones(len(np.where(X<1000)[0]))*Ib],axis=0),X[np.where(X<1000)]*Ib/Pb),axis=0)\n",
    "IPO = X[np.where(X>=1000)]*Ib/Pb\n",
    "payoff=np.append(Merge,IPO)*np.exp(-r*T)\n",
    "\n",
    "print(np.mean(payoff),CI(payoff,0.05))\n",
    "\n"
   ]
  },
  {
   "cell_type": "code",
   "execution_count": null,
   "id": "f7a0da79",
   "metadata": {},
   "outputs": [],
   "source": []
  },
  {
   "cell_type": "code",
   "execution_count": null,
   "id": "884f2d81",
   "metadata": {},
   "outputs": [],
   "source": [
    "# parameters\n",
    "r,div,sigma,rho=0.05,0.02,0.3,0.2\n",
    "S10,S20,S30,K,T=100,100,100,100,1\n",
    "N,size = 252,100000 # N:steps size:simulation times\n",
    "h=T/N\n",
    "# simulate standard normal\n",
    "Z1=np.random.normal(0,1,(N,size))\n",
    "Z2=np.random.normal(0,1,(N,size))\n",
    "Z3=np.random.normal(0,1,(N,size))\n",
    "X1=Z1\n",
    "X2=rho*Z1+np.sqrt(1-(rho**2))*Z2\n",
    "X3=rho*Z1+((rho-rho**2)/np.sqrt(1-rho**2))*Z2+(np.sqrt(1-rho**2-((rho-rho**2)**2)/(1-rho**2)))*Z3\n",
    "# simulate stock price: St=S0*exp{(miu-0.5*sigma^2)*t+sigma*Wt}\n",
    "S1=np.ones((1,size))*S10\n",
    "S2=np.ones((1,size))*S20\n",
    "S3=np.ones((1,size))*S30\n",
    "zero = np.zeros(size)\n",
    "for i in tqdm.tqdm(range(N)):\n",
    "    a=S1[i,:]*np.exp((r-div-(sigma**2)*0.5)*(h)+sigma*np.sqrt(h)*X1[i,:])\n",
    "    b=S2[i,:]*np.exp((r-div-(sigma**2)*0.5)*(h)+sigma*np.sqrt(h)*X2[i,:])\n",
    "    c=S3[i,:]*np.exp((r-div-(sigma**2)*0.5)*(h)+sigma*np.sqrt(h)*X3[i,:])\n",
    "    S1=np.append(S1,[a],axis=0)\n",
    "    S2=np.append(S2,[b],axis=0)\n",
    "    S3=np.append(S3,[c],axis=0)\n",
    "payoff=np.max([S1[-1,:]+S2[-1,:]-S3[-1,:]-K,zero],axis=0) \n",
    "# Discount to now"
   ]
  },
  {
   "cell_type": "code",
   "execution_count": null,
   "id": "25c834ba",
   "metadata": {},
   "outputs": [],
   "source": []
  },
  {
   "cell_type": "code",
   "execution_count": null,
   "id": "2d4c7170",
   "metadata": {},
   "outputs": [],
   "source": []
  }
 ],
 "metadata": {
  "kernelspec": {
   "display_name": "Python 3 (ipykernel)",
   "language": "python",
   "name": "python3"
  },
  "language_info": {
   "codemirror_mode": {
    "name": "ipython",
    "version": 3
   },
   "file_extension": ".py",
   "mimetype": "text/x-python",
   "name": "python",
   "nbconvert_exporter": "python",
   "pygments_lexer": "ipython3",
   "version": "3.10.4"
  }
 },
 "nbformat": 4,
 "nbformat_minor": 5
}
